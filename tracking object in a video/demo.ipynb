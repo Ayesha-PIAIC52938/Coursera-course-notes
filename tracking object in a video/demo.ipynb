{
 "cells": [
  {
   "cell_type": "markdown",
   "metadata": {},
   "source": [
    "# <div class=\"alert alert-danger\" > Tracking Objects in Video with Particle Filters\n"
   ]
  },
  {
   "cell_type": "markdown",
   "metadata": {},
   "source": [
    "### <div class=\"alert alert-success\" >Import libraries"
   ]
  },
  {
   "cell_type": "code",
   "execution_count": 42,
   "metadata": {},
   "outputs": [],
   "source": [
    "import numpy as np\n",
    "import cv2\n",
    "\n",
    "# Repeatability\n",
    "np.random.seed(0)\n",
    "\n",
    "VFILENAME = \"walking.mp4\"\n",
    "HEIGHT = 406\n",
    "WIDTH = 722"
   ]
  },
  {
   "cell_type": "markdown",
   "metadata": {},
   "source": [
    "### <div class=\"alert alert-success\" >Load video frames from file"
   ]
  },
  {
   "cell_type": "code",
   "execution_count": 43,
   "metadata": {},
   "outputs": [],
   "source": [
    "def get_frames(filename): \n",
    "    video = cv2.VideoCapture(filename)  # loading the video in the video object\n",
    "    while video.isOpened():             \n",
    "        ret, frame = video.read()      # ret is a flag \n",
    "        if ret:                        # if ret true yeild frame else brreak\n",
    "            yield frame\n",
    "        else:\n",
    "            break\n",
    "    video.release()\n",
    "    yield None"
   ]
  },
  {
   "cell_type": "markdown",
   "metadata": {},
   "source": [
    "### <div class=\"alert alert-success\" >Creating a particle cloud"
   ]
  },
  {
   "cell_type": "code",
   "execution_count": 44,
   "metadata": {},
   "outputs": [],
   "source": [
    "NUM_PARTICLES = 5000 # 50\n",
    "VEL_RANGE = 0.5\n",
    "def initialize_particles():\n",
    "    \n",
    "    particles = np.random.rand(NUM_PARTICLES, 4)\n",
    "    \n",
    "    particles = particles * np.array( (WIDTH,HEIGHT,VEL_RANGE,VEL_RANGE) )\n",
    "    \n",
    "    # decriment particles to VEL_RANGE/2.0\n",
    "    \n",
    "    particles[ :, 2:4 ] -= VEL_RANGE/2.0 # Center velocities around 0 so it can go to positive and negative\n",
    "    \n",
    "#     # printing some of these particles on the video\n",
    "#     print(particles[ :, 20: ])\n",
    "    \n",
    "    \n",
    "    return particles"
   ]
  },
  {
   "cell_type": "markdown",
   "metadata": {},
   "source": [
    "### <div class=\"alert alert-success\" >Moving particles according to their velocity state"
   ]
  },
  {
   "cell_type": "code",
   "execution_count": 45,
   "metadata": {},
   "outputs": [],
   "source": [
    "def apply_velocity(particles):\n",
    "    particles[ :, 0 ] += particles[ :, 2 ]  # x = x + u\n",
    "    particles[ :, 1 ] += particles[ :, 3 ]\n",
    "    return particles"
   ]
  },
  {
   "cell_type": "markdown",
   "metadata": {},
   "source": [
    "### <div class=\"alert alert-success\" >Prevent particles from falling off the edge of the video frame\n",
    "    \n",
    "<b>particles[i,0] = min(WIDTH-1, particles[i,0])</b> will prevent x value from getting grater then WIDTH-1. we subtract 1 because the frame coordinate is zero based so if you have a frame  with 100 pixels width you would want the coordinate to go from 0 to 99.\n",
    "    \n",
    "<b>particles[i,0] = max(0, min(WIDTH-1, particles[i,0]))</b> This will prevent it from going to and below zero\n",
    "    "
   ]
  },
  {
   "cell_type": "code",
   "execution_count": 46,
   "metadata": {},
   "outputs": [],
   "source": [
    "def enforce_edges(particles):\n",
    "    \n",
    "    for i in range(NUM_PARTICLES):\n",
    "        \n",
    "        particles[i,0] = max(0, min(WIDTH-1, particles[i,0])) \n",
    "        particles[i,1] = max(0, min(HEIGHT-1, particles[i,1]))\n",
    "        \n",
    "    return particles"
   ]
  },
  {
   "cell_type": "markdown",
   "metadata": {},
   "source": [
    "### <div class=\"alert alert-success\" >Measure each particle's quality\n",
    "    \n",
    "In order to improve our state estimation, we want\n",
    "to check the color of the pixel sitting under each particle\n",
    "and compare it to the target color.\n",
    "So now, to get the precise values of that target color,\n",
    "I paused the video just like this, and I took a screenshot\n",
    "and I opened it in gimp and with the eyedropper tool.\n",
    "I found the BGR values for some pixel.\n",
    "So I just chose a pixel on the sleeve of our target's\n",
    "vest here.\n",
    "Try to choose a pixel\n",
    "that's kind of representative of the whole target.\n",
    "Not too bright, not too dark.\n",
    "And I ended up with values 156, 74, 38.\n",
    "So let's store those values in a numpy array. \n",
    "Again, 156, 74, and 38.\n",
    "Now I'll create a numpy array to store those color\n",
    "differences. We'll call it errors, and we'll fill it with zeros to start with.\n",
    "It will have one element for each particle.\n",
    "    "
   ]
  },
  {
   "cell_type": "code",
   "execution_count": 47,
   "metadata": {},
   "outputs": [],
   "source": [
    "def compute_errors(particles, frame):\n",
    "    errors = np.zeros(NUM_PARTICLES)\n",
    "    TARGET_COLOUR = np.array( (189,105,82) ) # Blue top sleeve pixel colour\n",
    "#    TARGET_COLOUR = np.array( (148, 73, 49) ) # Blue top sleeve pixel colour\n",
    "    \n",
    "    for i in range(NUM_PARTICLES):\n",
    "        \n",
    "        x = int(particles[i,0])\n",
    "        y = int(particles[i,1])\n",
    "        \n",
    "        pixel_colour = frame[ y, x, : ]\n",
    "        \n",
    "        errors[i] = np.sum( ( TARGET_COLOUR - pixel_colour )**2 ) # Mean Square Error in colour space\n",
    "    return errors"
   ]
  },
  {
   "cell_type": "markdown",
   "metadata": {},
   "source": [
    "### <div class=\"alert alert-success\" >Assign weights to the particles based on their quality of match\n",
    "    \n",
    "    \n",
    " we will compute particle weights and re-sample\n",
    "the particle filter.\n",
    "The next step is to use the errors we calculated to compute\n",
    "a weight for each particle.\n",
    "When the error is low, we want the weight to be high.\n",
    "This means that a particle is at a location where the pixel\n",
    "color is a good match for the target.\n",
    "The simplest thing we can do is invert the errors,\n",
    "In this sense: if we take the highest error that was found\n",
    "and then we subtract off the errors array, this will be done\n",
    "element-wise, and the weights array will then have as many\n",
    "elements as the errors array has.\n",
    "And next we want to prevent the particles from piling up\n",
    "along the edge.\n",
    "So we'd like to set the weight for particles on the edge\n",
    "to zero.\n",
    "We can use a bit of really nice numpy syntax to do this\n",
    "in one line.  So we know that we want to set some elements\n",
    "of the weights array to zero. So here's the trick.\n",
    "First of all, if you use a numpy array in a conditional\n",
    "expression... so this is all the rows and the column\n",
    "that's zero.\n",
    "What that expression will return is a new numpy array\n",
    "with Trues or Falses depending on how it evaluated element-wise,\n",
    "and we can use that array of Trues and Falses\n",
    "as an index for weights.\n",
    "So this is the condition, x is equal to zero.\n",
    "That's along the left hand edge of the frame.\n",
    "We can do a logical OR and set the condition where,\n",
    "if the x particle value is equal to WIDTH - 1.\n",
    "So this would be the right edge of the frame, and we do\n",
    "the same thing for y, so y will be zero at the top edge\n",
    "of the frame and at the bottom edge, it will be equal\n",
    "to HEIGHT-1.\n",
    "So there you have it in one expression.\n"
   ]
  },
  {
   "cell_type": "code",
   "execution_count": 48,
   "metadata": {},
   "outputs": [],
   "source": [
    "def compute_weights(errors):\n",
    "    weights = np.max(errors) - errors\n",
    "    weights[ \n",
    "        (particles[ :,0 ] == 0) |        # left edge of the frame\n",
    "        (particles[ :,0 ] == WIDTH-1) |  # Right edge of the frame\n",
    "        (particles[ :,1 ] == 0) |        # top edge of the frame\n",
    "        (particles[ :,1 ] == HEIGHT-1)   # bottom edge of the frame\n",
    "    ] = 0.0\n",
    "    \n",
    "    # Make weights more sensitive to colour difference.\n",
    "    # Cubing a set of numbers in the interval [0,1], the farther a number is from 1, the more it gets squashed toward zero\n",
    "    weights = weights**4\n",
    "    \n",
    "    return weights"
   ]
  },
  {
   "cell_type": "markdown",
   "metadata": {},
   "source": [
    "### <div class=\"alert alert-success\" >Resample particles according to their weights\n",
    "    \n",
    "Now we're going to do something really cool with these weights.\n",
    "If we normalize them so that they sum to one, we can use them\n",
    "as a probability distribution over the particles.\n",
    "Next, we want to re-sample the particles according\n",
    "to these probabilities.\n",
    "So in other words, we're going to build a new particle array\n",
    "by sampling from the current particles.  The ones that have\n",
    "a high weight will get chosen many times and those with a \n",
    "low weight may not be chosen at all.\n",
    "numpy has a very useful function for this kind of re sampling.\n",
    "We're going to call the choice function.\n",
    "And here are the arguments we hand it.\n",
    "First of all, we need to tell it what its sampling from.\n",
    "So if we just give it a single integer, it's clever enough\n",
    "to know that we want to re-sample in the range from zero\n",
    "to that maximum value.\n",
    "Next we tell it, how many samples to take?\n",
    "So since we're replacing the whole particle array, we need\n",
    "as many samples as we have particles.\n",
    "And finally, we just tell it the probability distribution.\n",
    "So once we're done with this re sampling, we have our new\n",
    "index numbers that are pointing to the current particles\n",
    "we've sampled.\n",
    "Then we just rebuild a particle array according\n",
    "to these index numbers.  Right.\n",
    "So these are pointing to the rows of the previous particle\n",
    "array. So finally, it would be great if we could come up\n",
    "with a single x,y position, which is our best guess for where\n",
    "is the target.\n",
    "So far, we've expressed our state estimation using all\n",
    "the particles.\n",
    "But we'd like to have a single best guess, and we can get\n",
    "that very easily by just taking the average x and y position\n",
    "over all the particles that we have.\n",
    "So x will be mean of all the x values and likewise for y,\n",
    "the mean over all the y values.\n",
    "So finally, at the end, we are returning the particles array\n",
    "and we'd like to return at tuple with the x and y cast\n",
    "to integers.\n",
    "So this will allow us to use this tuple directly to index\n",
    "as pixel coordinates.\n"
   ]
  },
  {
   "cell_type": "code",
   "execution_count": 49,
   "metadata": {},
   "outputs": [],
   "source": [
    "def resample(particles, weights):\n",
    "    # Normalize to get valid PDF\n",
    "    probabilities = weights / np.sum(weights)\n",
    "\n",
    "    # Resample\n",
    "    indices = np.random.choice(\n",
    "        NUM_PARTICLES,         # from where to take samples\n",
    "        size=NUM_PARTICLES,    # number of samples to take\n",
    "        p=probabilities)      # tell it the probability distribution\n",
    "    \n",
    "    particles = particles[ indices, : ]\n",
    "\n",
    "    # Take average over all particles, best-guess for location\n",
    "    x = np.mean(particles[:,0])\n",
    "    y = np.mean(particles[:,1])\n",
    "    return particles, (int(x),int(y))"
   ]
  },
  {
   "cell_type": "markdown",
   "metadata": {},
   "source": [
    "### <div class=\"alert alert-success\" >Fuzz the particles\n",
    "    \n",
    "So let's start by cleaning up the damage we had from last\n",
    "session.\n",
    "We can do a Kernel - Restart Kernel, and that will close\n",
    "down the window and the resources that were being held\n",
    "by the crashed program.\n",
    "So in the previous task, our particle filter did a great job\n",
    "of converging on one pixel.\n",
    "But it wasn't quite a pixel on the target.\n",
    "We need it to locate the target and keep tracking the target,\n",
    "even if it moves around the frame or the lighting conditions\n",
    "change.\n",
    "The solution, believe it or not, is to add noise.\n",
    "As an engineer, I have always thought that noise\n",
    "in any system was a bad thing.\n",
    "But in a particle filter, we can use noise to express our\n",
    "uncertainty about the target state.\n",
    "We will generate some Gaussian noise and add it\n",
    "to each particle.\n",
    "If the target changes in the next frame, some\n",
    "of the particles will have changed in the same way, thanks\n",
    "to the variations from the noise we added, so they will move\n",
    "along with the target.\n",
    "The other particles that did not move with the target\n",
    "will have more color error and won't get re-sampled.\n",
    "So let's code this.  We're using Gaussian noise,\n",
    "so we're going to specify the standard deviations\n",
    "for position.\n",
    "We can go with a standard standard deviation of one pixel\n",
    "and for velocity, maybe half a pixel per frame.\n",
    "So next we create our noise: we're going to create it one column\n",
    "at a time, and then we'll concatenate all the columns\n",
    "into one array.\n",
    "Okay, so here we go.\n",
    "The first column is for x position.  We'll generate some Gaussian\n",
    "noise according to the position sigma,\n",
    "the standard deviation we specified.  And the size\n",
    "of the output noise array here.\n",
    "It's going to be like just a single column.\n",
    "So NUM_PARTICLES is the number of rows and one column.\n",
    "Okay, so you want to do the same thing for y it's exactly\n",
    "the same line, just Copy-Paste.  And paste it two more times\n",
    "for velocity.\n",
    "We're just going to use a different standard deviation,\n",
    "the one for velocity.\n",
    "And finally, we need to tell numpy how to concatenate all\n",
    "these things.\n",
    "So we want it to coordinate column-wise, specify that\n",
    "with axis=1.\n",
    "Finally, now that we have a noise array, we just increment\n",
    "the particles array by the noise and that's it.\n"
   ]
  },
  {
   "cell_type": "code",
   "execution_count": 50,
   "metadata": {},
   "outputs": [],
   "source": [
    "def apply_noise(particles):\n",
    "    # Noise is good!  Noise expresses our uncertainty in the target's position and velocity\n",
    "    # We add small variations to each hypothesis that were samples from the best ones in last iteration.\n",
    "    # The target's position and velocity may have changed since the last frame, some of the fuzzed hypotheses will match these changes.\n",
    "   \n",
    "    POS_SIGMA = 1.0   # standard deviation of i pixel\n",
    "    VEL_SIGMA = 0.5   # velocity of 0.5\n",
    "    \n",
    "    noise = np.concatenate(\n",
    "        (\n",
    "            np.random.normal(0.0, POS_SIGMA, (NUM_PARTICLES,1)),\n",
    "            np.random.normal(0.0, POS_SIGMA, (NUM_PARTICLES,1)),\n",
    "            np.random.normal(0.0, VEL_SIGMA, (NUM_PARTICLES,1)),\n",
    "            np.random.normal(0.0, VEL_SIGMA, (NUM_PARTICLES,1))\n",
    "        ),\n",
    "        axis=1    # concatenate column wise\n",
    "    )\n",
    "    particles += noise\n",
    "    return particles"
   ]
  },
  {
   "cell_type": "markdown",
   "metadata": {},
   "source": [
    "### <div class=\"alert alert-success\" >Display the video frames"
   ]
  },
  {
   "cell_type": "code",
   "execution_count": 51,
   "metadata": {},
   "outputs": [],
   "source": [
    "def display(frame, particles, location):\n",
    "    \n",
    "    if len(particles) > 0:        # checking if there are any particals to display\n",
    "        \n",
    "        for i in range(NUM_PARTICLES):\n",
    "            x = int(particles[i,0])    # using partical values as pixel coordinates\n",
    "            y = int(particles[i,1])    # using partical values as pixel coordinates\n",
    "            \n",
    "#            cv2.circle(frame, (x,y), 1, (0,255,0), 1)   # color convention is (blue,green,red)\n",
    "    if len(location) > 0:\n",
    "        cv2.circle(frame, location, 15, (0,0,255), 5)\n",
    "    cv2.imshow('frame', frame)\n",
    "    \n",
    "    # Means for pausing the video playback\n",
    "    \n",
    "    if cv2.waitKey(30) == 27: # wait 30 msec for user to his Esc key (27) \n",
    "        if cv2.waitKey(0) == 27: # second Esc key exits program\n",
    "            return True\n",
    "    return False"
   ]
  },
  {
   "cell_type": "markdown",
   "metadata": {},
   "source": [
    "### <div class=\"alert alert-success\" >Main routine"
   ]
  },
  {
   "cell_type": "code",
   "execution_count": 52,
   "metadata": {},
   "outputs": [],
   "source": [
    "particles = initialize_particles()\n",
    "\n",
    "for frame in get_frames(VFILENAME):\n",
    "    if frame is None: break\n",
    "\n",
    "    particles = apply_velocity(particles)\n",
    "    particles = enforce_edges(particles)\n",
    "    errors = compute_errors(particles, frame)\n",
    "    weights = compute_weights(errors)\n",
    "    particles, location = resample(particles, weights)\n",
    "    particles = apply_noise(particles)\n",
    "    terminate = display(frame, particles, location)\n",
    "    if terminate:\n",
    "        break\n",
    "cv2.destroyAllWindows()"
   ]
  },
  {
   "cell_type": "code",
   "execution_count": null,
   "metadata": {},
   "outputs": [],
   "source": []
  }
 ],
 "metadata": {
  "kernelspec": {
   "display_name": "Python 3 (ipykernel)",
   "language": "python",
   "name": "python3"
  },
  "language_info": {
   "codemirror_mode": {
    "name": "ipython",
    "version": 3
   },
   "file_extension": ".py",
   "mimetype": "text/x-python",
   "name": "python",
   "nbconvert_exporter": "python",
   "pygments_lexer": "ipython3",
   "version": "3.9.13"
  }
 },
 "nbformat": 4,
 "nbformat_minor": 4
}
