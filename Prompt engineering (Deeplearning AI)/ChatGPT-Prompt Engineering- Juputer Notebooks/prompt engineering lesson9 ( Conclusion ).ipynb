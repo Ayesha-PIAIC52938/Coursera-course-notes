{
 "cells": [
  {
   "cell_type": "markdown",
   "id": "5e76db2d",
   "metadata": {},
   "source": [
    "# <div class=\"alert alert-danger\" >  Conclusion</div>\n",
    "\n",
    "\n",
    "In summary, in this short course you've learned about `two key principles for prompting. Write clear and specific instructions, and when it's appropriate, give the model time to think.` You also learned about` iterative prompt development` and how having a \n",
    "process to get to the prompt that's right for your application is key. And we went through a few capabilities of large language models that are useful for many applications, specifically `summarizing, inferring, transforming, and expanding`. And you also saw `how to build a custom chatbot`. That was a lot that you learned in just one short course, and I hope you enjoyed going through these materials. \n",
    "\n",
    "We hope you'll come up with some ideas for applications that you can build yourself now. Please go try this out and let us know \n",
    "what you come up with. No application is too small, it's fine to start with something that's kind of a very small project with \n",
    "maybe a little bit of utility or maybe it's not even useful at all, it's just something fun. Yeah, and I find playing with these models actually really fun, so go play with it! \n",
    "\n",
    "It's a good weekend activity, speaking from experience. Use the learnings from your first project to build a better second project and, maybe even a better third project, so on. That's kind of how I have grown over time using these models myself as well. Or if you have an idea for a bigger project already, just go for it. And you know, as a reminder, these kind of large language models are a very powerful technology, so it kind of goes without saying that we ask you to use them responsibly and \n",
    "please only build things that will have a positive impact. \n",
    "\n",
    "I think in this age, people that build AI systems can have a huge impact on others. So it's more important than ever that all of us only use these tools responsibly. Building large language model based applications is just a very exciting and growing field right now. And now that you've finished this course, I think you now have a wealth of knowledge that let you build things that few people today know how to. So, I hope you also help us to spread the word and encourage others to take this course too.\n",
    "\n",
    "In closing, I hope you had fun doing this course, and I want to thank you for finishing this course. And both Ezra and I look forward to hearing about the amazing things that you build. "
   ]
  }
 ],
 "metadata": {
  "kernelspec": {
   "display_name": "Python 3 (ipykernel)",
   "language": "python",
   "name": "python3"
  },
  "language_info": {
   "codemirror_mode": {
    "name": "ipython",
    "version": 3
   },
   "file_extension": ".py",
   "mimetype": "text/x-python",
   "name": "python",
   "nbconvert_exporter": "python",
   "pygments_lexer": "ipython3",
   "version": "3.9.13"
  }
 },
 "nbformat": 4,
 "nbformat_minor": 5
}
